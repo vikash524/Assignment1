{
 "cells": [
  {
   "cell_type": "raw",
   "id": "d4397b0c-73a5-40b5-a2b2-4de2d0ccdf05",
   "metadata": {},
   "source": [
    "assignment 1 "
   ]
  },
  {
   "cell_type": "markdown",
   "id": "bb7c8458-032d-448e-8fa4-4c3656741c2a",
   "metadata": {},
   "source": [
    " 1 - Guido van Rossum "
   ]
  },
  {
   "cell_type": "markdown",
   "id": "f21f78f2-77e3-46fc-b390-2c1b5d9fe696",
   "metadata": {},
   "source": [
    "2- objec- orineted, structured, and functional language"
   ]
  },
  {
   "cell_type": "markdown",
   "id": "ecfe6006-cf19-4c8e-93c0-6244033c301d",
   "metadata": {},
   "source": [
    "3-yes"
   ]
  },
  {
   "cell_type": "markdown",
   "id": "5afffbe8-84ed-4926-a5e5-44759f3919e8",
   "metadata": {},
   "source": [
    "4-.py"
   ]
  },
  {
   "cell_type": "markdown",
   "id": "8c2125d5-0cb2-43a0-91bc-5a04f5a18ad4",
   "metadata": {},
   "source": [
    "5- interpreted language"
   ]
  },
  {
   "cell_type": "code",
   "execution_count": 21,
   "id": "89bbe28b-d3be-4330-b5d4-a3461239298b",
   "metadata": {},
   "outputs": [],
   "source": [
    "#6- a module, a function body, and a class definitions"
   ]
  },
  {
   "cell_type": "code",
   "execution_count": 19,
   "id": "54f47f3a-66f9-4041-b5c8-e39f0dc91568",
   "metadata": {},
   "outputs": [],
   "source": [
    "#7 hash(#)"
   ]
  },
  {
   "cell_type": "code",
   "execution_count": 20,
   "id": "b0acf0e8-9c6e-496e-ae90-d0c3c13f671b",
   "metadata": {},
   "outputs": [],
   "source": [
    "#8 sys. version"
   ]
  },
  {
   "cell_type": "code",
   "execution_count": 22,
   "id": "ac5cb673-3b2b-4b43-a716-e97fa8e88161",
   "metadata": {},
   "outputs": [],
   "source": [
    "#9 lambda"
   ]
  },
  {
   "cell_type": "code",
   "execution_count": 23,
   "id": "c1013fee-4bb9-4799-ace5-884ab72b1c2a",
   "metadata": {},
   "outputs": [],
   "source": [
    "#10 preferred installer program"
   ]
  },
  {
   "cell_type": "code",
   "execution_count": 28,
   "id": "50b25bb5-a734-446c-a9af-e330da329ff8",
   "metadata": {},
   "outputs": [],
   "source": [
    "#11 \n",
    "#print() funnction\n",
    "#type() function\n",
    "#input()function \n",
    "#abs() function\n",
    "#pow() function"
   ]
  },
  {
   "cell_type": "code",
   "execution_count": 29,
   "id": "12745c1c-fafd-41b6-9e48-f1e8342330b3",
   "metadata": {},
   "outputs": [],
   "source": [
    "#12 79 characters"
   ]
  },
  {
   "cell_type": "code",
   "execution_count": 30,
   "id": "c9ccd014-0aec-449a-92dd-f3420a741d67",
   "metadata": {},
   "outputs": [],
   "source": [
    "#13 python can be use in developing website and software, task automation, data analysis, and data visualization"
   ]
  },
  {
   "cell_type": "code",
   "execution_count": 32,
   "id": "9248f29d-1e2a-435d-a5db-83d6e707f747",
   "metadata": {},
   "outputs": [],
   "source": [
    "#14 meomery management in python involes a private heap containing all python object and data structures"
   ]
  },
  {
   "cell_type": "code",
   "execution_count": 36,
   "id": "bae9e2a2-579f-4ac2-94f3-39aa32c7c3b2",
   "metadata": {},
   "outputs": [],
   "source": [
    "#15 (1. right- clicking this PC and going to properties \n",
    "#2- clicking on the advance system ssettings in the menu on the left\n",
    "#3 clicking on the environment ariable buttoon on the bottom right\n",
    "#4 in the system variable section selecting the path variable and clciking on edit. the next screen will show all the directiories that are currently a partof the PATH variable\n",
    "#5-\" clicking on NEW and entring python's install directory\")"
   ]
  },
  {
   "cell_type": "code",
   "execution_count": null,
   "id": "1b645f0d-1ffa-4c4a-ae6c-8bcd8f99692a",
   "metadata": {},
   "outputs": [],
   "source": [
    "#16 y"
   ]
  }
 ],
 "metadata": {
  "kernelspec": {
   "display_name": "Python 3 (ipykernel)",
   "language": "python",
   "name": "python3"
  },
  "language_info": {
   "codemirror_mode": {
    "name": "ipython",
    "version": 3
   },
   "file_extension": ".py",
   "mimetype": "text/x-python",
   "name": "python",
   "nbconvert_exporter": "python",
   "pygments_lexer": "ipython3",
   "version": "3.10.8"
  }
 },
 "nbformat": 4,
 "nbformat_minor": 5
}
